{
 "cells": [
  {
   "cell_type": "code",
   "execution_count": 4,
   "metadata": {},
   "outputs": [
    {
     "name": "stdout",
     "output_type": "stream",
     "text": [
      "Counter({' ': 17, 'One': 2, 'was': 2, 'a': 2, 'Two': 2, 'racehorse': 1, ';': 1, 'one': 1, 'too': 1, ',': 1, 'How': 1, 'much': 1, 'wood': 1, 'could': 1, 'woodchuck': 1, 'chuck': 1})\n"
     ]
    }
   ],
   "source": [
    "import re\n",
    "import pandas as pd\n",
    "from collections import Counter\n",
    "words ='One One was a racehorse ; Two Two was one too,How much wood could a woodchuck chuck '\n",
    "m=re.split(r'(\\W)', words) \n",
    "count = Counter(filter(None, m)) \n",
    "print(count)"
   ]
  },
  {
   "cell_type": "code",
   "execution_count": null,
   "metadata": {},
   "outputs": [],
   "source": [
    "import pandas as pd\n",
    "df = pd.read_csv('tox21.csv')\n",
    "writer=pd.ExcelWriter(\"tox21.xlsx\")\n",
    "df.to_excel(writer,sheet_name=\"1\",columns=['id', 'mol_id', 'smiles','NR-AR'])\n",
    "df.to_excel(writer,sheet_name=\"2\",columns=['id', 'mol_id', 'smiles','NR-AR-LBD'])\n",
    "df.to_excel(writer,sheet_name=\"3\",columns=['id', 'mol_id', 'smiles','NR-AhR'])\n",
    "df.to_excel(writer,sheet_name=\"4\",columns=['id', 'mol_id', 'smiles','NR-Aromatase'])\n",
    "df.to_excel(writer,sheet_name=\"5\",columns=['id', 'mol_id', 'smiles','NR-ER'])\n",
    "df.to_excel(writer,sheet_name=\"6\",columns=['id', 'mol_id', 'smiles','NR-ER-LBD'])\n",
    "df.to_excel(writer,sheet_name=\"7\",columns=['id', 'mol_id', 'smiles','NR-PPAR-gamma'])\n",
    "df.to_excel(writer,sheet_name=\"8\",columns=['id', 'mol_id', 'smiles','SR-ARE'])\n",
    "df.to_excel(writer,sheet_name=\"9\",columns=['id', 'mol_id', 'smiles','SR-ATAD5'])\n",
    "df.to_excel(writer,sheet_name=\"10\",columns=['id', 'mol_id', 'smiles','SR-HSE'])\n",
    "df.to_excel(writer,sheet_name=\"11\",columns=['id', 'mol_id', 'smiles','SR-MMP'])\n",
    "df.to_excel(writer,sheet_name=\"12\",columns=['id', 'mol_id', 'smiles','SR-p53'])\n",
    "writer.save()"
   ]
  },
  {
   "cell_type": "code",
   "execution_count": null,
   "metadata": {},
   "outputs": [],
   "source": [
    "一．\n",
    "1.SELECT Title FROM movies;\n",
    "2.SELECT Director FROM movies;\n",
    "3.SELECT Title,Director FROM movies;\n",
    "4.SELECT Year,Title FROM movies;\n",
    "5.SELECT * FROM movies;\n",
    "二．\n",
    "1.SELECT * FROM movies where id=6;\n",
    "2.SELECT * FROM movies where Year BETWEEN 2000 AND 2010;\n",
    "3.SELECT * FROM movies where Year NOT BETWEEN 2000 AND 2010;\n",
    "4.SELECT Title,Year FROM movies where Id BETWEEN 1 AND 5 ;\n",
    "三．\n",
    "1.SELECT * FROM Movies WHERE Title LIKE \"Toy Story%\";\n",
    "2.SELECT * FROM Movies WHERE Director =\"John Lasseter\";\n",
    "3.SELECT * FROM Movies WHERE Director !=\"John Lasseter\";\n",
    "4.SELECT * FROM Movies WHERE Title LIKE\"WALL%5\";\n",
    "四．\n",
    "1.SELECT DISTINCT Director FROM movies ORDER BY Director ASC;\n",
    "2.SELECT Title FROM movies ORDER BY Year DESC LIMIT 4 OFFSET 10 ;\n",
    "3.SELECT Title FROM movies ORDER BY Title ASC LIMIT 5 OFFSET 0 ;\n",
    "4.SELECT Title FROM movies ORDER BY Title ASC LIMIT 5 OFFSET 5;\n",
    "\n",
    "五．\n",
    "1.SELECT City,Population FROM north_american_cities WHERE Country =\"Canada\";\n",
    "2.SELECT city FROM north_american_cities WHERE Country =\"United States\" ORDER BY Latitude DESC ;\n",
    "3.SELECT city FROM north_american_cities WHERE Longitude <-87.629798 ORDER BY Longitude ASC;\n",
    "4.SELECT city FROM north_american_cities WHERE Country =\"Mexico\" ORDER BY Population DESC LIMIT 2 OFFSET 0\n",
    "5.SELECT city FROM north_american_cities WHERE Country =\"United States\" ORDER BY Population DESC LIMIT 2 OFFSET 2\n",
    "六．\n",
    "1.SELECT Title,Domestic_sales,International_sales FROM Boxoffice INNER JOIN Movies ON Movie_id = Id;\n",
    "2.SELECT Title,Domestic_sales,International_sales FROM Boxoffice INNER JOIN Movies ON Movie_id = Id WHERE International_sales > Domestic_sales;\n",
    "3.SELECT Title FROM Boxoffice INNER JOIN Movies ON Movie_id = Id ORDER BY Rating DESC;\n",
    "七．\n",
    "1.SELECT DISTINCT  Building FROM employees LEFT JOIN Buildings ON Building = Building_name;\n",
    "2.SELECT Building_name,Capacity FROM Buildings ;\n",
    "3.SELECT DISTINCT Building_name,Role FROM Buildings LEFT JOIN Employees ON Building_name=Building ;\n",
    "4.SELECT Name,Role FROM Employees WHERE Building IS NULL;\n",
    "八．\n",
    "1.SELECT Building_name FROM Buildings LEFT JOIN Employees ON Building_name=Building WHERE Building IS NULL;\n",
    "2.SELECT Title, (Domestic_sales+International_sales)/1000000 AS Combined_sales FROM Boxoffice LEFT JOIN Movies ON Movie_id=Id;\n",
    "3.SELECT Title, Rating*10 FROM Boxoffice LEFT JOIN Movies ON Movie_id=Id;\n",
    "4.SELECT Title FROM Boxoffice LEFT JOIN Movies ON Movie_id=Id WHERE YEAR=1998 OR YEAR=2004 OR YEAR=2006 OR YEAR=2008 OR YEAR=2010 OR YEAR=2012;\n",
    "九．\n",
    "1.SELECT MAX(Years_employed)FROM employees;\n",
    "2.SELECT Role,AVG(Years_employed)FROM employees GROUP BY(Role);\n",
    "3.SELECT Building, SUM(Years_employed)FROM employees GROUP BY Building;\n",
    "十．\n",
    "1.SELECT COUNT(*) AS Number,Role FROM employees WHERE Role=\"Artist\";\n",
    "2.SELECT COUNT(*) AS Number,Role FROM employees GROUP BY Role;\n",
    "3.SELECT SUM(Years_employed)FROM employees WHERE Role=\"Engineer\"  ;\n",
    "十一．\n",
    "1.SELECT COUNT(*),Director FROM movies GROUP BY Director;\n",
    "2.SELECT SUM(Domestic_sales)+SUM(International_sales),Director FROM Boxoffice LEFT JOIN Movies ON Movie_id=Id GROUP BY Director;\n",
    "十二．\n",
    "1.INSERT INTO Movies(Title,Director,Year,Length_minutes) VALUES(\"Toy Story 4\",\"John\",\"2019\",\"90\")\n",
    "2.INSERT INTO Boxoffice(Movie_id,Rating,Domestic_sales,International_sales) VALUES(\"16\",\"8.7\",\"3400000000\",\"2700000000\");\n",
    "十三．\n",
    "1.UPDATE Movies SET Director=\"John Lasseter\" WHERE Title=\"A Bug's Life\"\n",
    "2.UPDATE Movies SET Year=\"1999\" WHERE Title=\"Toy Story 2\"\n",
    "3.UPDATE Movies SET Title=\"Toy Story 3\",Director=\"Lee Unkrich\" WHERE Title=\"Toy Story 8\"\n",
    "十四．\n",
    "1.DELETE FROM Movies WHERE Year<2005;\n",
    "2.DELETE FROM Movies WHERE Director=\"Andrew Stanton\"\n",
    "十五．\n",
    "1.CREATE TABLE IF NOT EXISTS Database(\n",
    "Name Character(20),\n",
    "Version Float,\n",
    "Download_count Int\n",
    ")\n",
    "十六．\n",
    "1.ALTER TABLE Movies ADD Aspect_ratio FLOAT\n",
    "2.ALTER TABLE Movies ADD Language TEXT DEFAULT English\n",
    "十七．\n",
    "1.DROP TABLE IF EXISTS Movies\n",
    "2.DROP TABLE IF EXISTS Boxoffice"
   ]
  }
 ],
 "metadata": {
  "kernelspec": {
   "display_name": "Python 3",
   "language": "python",
   "name": "python3"
  },
  "language_info": {
   "codemirror_mode": {
    "name": "ipython",
    "version": 3
   },
   "file_extension": ".py",
   "mimetype": "text/x-python",
   "name": "python",
   "nbconvert_exporter": "python",
   "pygments_lexer": "ipython3",
   "version": "3.6.5"
  }
 },
 "nbformat": 4,
 "nbformat_minor": 2
}
