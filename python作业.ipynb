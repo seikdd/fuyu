{
 "cells": [
  {
   "cell_type": "raw",
   "metadata": {},
   "source": [
    "一.python定义"
   ]
  },
  {
   "cell_type": "raw",
   "metadata": {},
   "source": [
    "1.解释型语言：程序不需要编译，程序在运行时才翻译成机器语言，特点是每执行一次都要翻译一次。\n",
    "解释型语言优缺点：\n",
    "解释型语言跨平台性好，但是由于其解释器在执行时对代码进行解释所以效率较低。\n",
    "2.面向对象：面向对象时把构成问题事务分解成各个对象，建立对象的目的不是为了完成一个步骤，而是为了描述某个事物在整个解决问题的步骤中的行为。\n",
    "面向对象的特点是对象唯一性，抽象性，继承性，多态性。\n",
    "面向对象的优缺点：面向对象编程具有良好的可扩展性和可移植性。\n",
    "3.动态语义：在运行时可以改变其结构的语言，例如新的函数，对象，甚至代码可以被引进，已有的函数可以被删除或是其他结构上的变化。\n",
    "动态语言的优缺点：方便阅读，清晰明了，缺点是不方便程序员调试。"
   ]
  },
  {
   "cell_type": "raw",
   "metadata": {},
   "source": [
    "二.python2和python3在运算符和表达式上的异同"
   ]
  },
  {
   "cell_type": "raw",
   "metadata": {},
   "source": [
    "1.在python2中，print是一个语句，不论想输出什么，直接放到print关键字后面即可。python3里，print（）是一个函数，需要将想要输出的东西作为参数传给它。\n",
    "2.python3的除法不需要转float\n",
    "3.python的数据类型新增了bytes，还可以使用Unicode编码存储字符串。\n",
    "4.python2有两个全局函数可以把对象转换成字符串：unicode（）把对象转换成unicode字符串，还有str()把对象转换为非unicode字符串。python3 只有一种字符串类型，所以str（）函数即可完成所有转换。\n",
    "5.python2支持〈〉作为！=的同义词，python3只支持！=，不再支持〈〉。\n",
    "6.python2有非浮点型的int和long类型。int类型最大值不能超过sys.maxint，而且这个最大值是平台相关的。可以通过在数字的末尾附上一个L来定义长整型，显然，它比int类型表示的数字范围更大。在python3里，只有一种整数类型int,大多数情况下，和python2中的长整型类似。\n",
    "7."
   ]
  },
  {
   "cell_type": "raw",
   "metadata": {},
   "source": [
    "三.python的变量命名方式"
   ]
  },
  {
   "cell_type": "raw",
   "metadata": {},
   "source": [
    "1.python中的标识符石区分大小写的。\n",
    "2.在定义变量时，为了保证代码格式，=的左右应该各保留一个空格。\n",
    "3.在 python中，如果变量名需要由两个或多个单词组成时，可以按照以下方式命名：\n",
    "每个单词都使用小写字母\n",
    "单词与单词之间使用下划线连接"
   ]
  },
  {
   "cell_type": "raw",
   "metadata": {},
   "source": [
    "四.python注释"
   ]
  },
  {
   "cell_type": "raw",
   "metadata": {},
   "source": [
    "1.python中单行注释以#开头。\n",
    "2.多行注释用’’’或”””将注释括起来。"
   ]
  },
  {
   "cell_type": "raw",
   "metadata": {},
   "source": [
    "五.模块导入"
   ]
  },
  {
   "cell_type": "raw",
   "metadata": {},
   "source": [
    "1.import与from import的异同\n",
    "import导入整个模块，这种导入方式比较占内存，而且可以一次导入多个模块。调用模块中的内容时需要用module_name.变量名或函数名。\n",
    "from import石从一个模块里导入方法，用到模块里的什么方法就从模块里导入什么方法，这样占用的内存较少。调用模块中的内容时可直接调用。\n",
    "2.导入自建模块的方法：\n",
    "直接导入。\n",
    "通过sys模块导入自定义模块的路径：先导入sys模块，然后通过sys.path.append(path)函数来daor\n",
    "导入自定义模块所在的目录，最后导入自定义模块。\n",
    "通过pth文件找到自定义模块。\n",
    "2.python2h和python3导入模块的异同：\n",
    "Python2在包内模块的导入，顺序是：\n",
    "1.当前目录\n",
    "2.上一个目录\n",
    "3.找不到再往上\n",
    "4.系统环境变量\n",
    "5.标准库\n",
    "6.前三个在搜索路径下的.pth文件\n",
    "Python3 的模块导入原则为：\n",
    "1.默认绝对导入\n",
    "2.如果要相对导入，那么一定是显示声明，并且，这个声明不是告诉python一个模块查找偏好，而是一种约束。\n",
    "3.导入上一级模块的方法\n",
    "通过sys模块导入自定义模块的路径：先导入sys模块，然后通过sys.path.append(path)函数来导入自定义模块所在的目录，最后导入自定义模块。"
   ]
  },
  {
   "cell_type": "raw",
   "metadata": {},
   "source": [
    "六.python的数据结构"
   ]
  },
  {
   "cell_type": "raw",
   "metadata": {},
   "source": [
    "1.list：\n",
    "列表中的每个元素都是可变的，也就是说可以对每个元素进行修改和删除。\n",
    "列表是有序的，每个元素的位置是确定的，可以用每个索引去访问元素。\n",
    "列表中的元素可以是python中的任何对象，可以是任何对象就意味着元素可以是字符串，整数，元组，也可以是list等python 中的对象。\n",
    "python中的list和c语言中的数组类似，只是list中的元素类型可以是python中的对象，而c语言中的数组只能是同种类型。当访问他们中的元素时，都可采用索引。\n",
    "2.元组\n",
    "元组是一个固定的列表，一旦初始化其中的元素便不可修改，只能对元素进行查询。\n",
    "3.字典\n",
    "字典中的数据必须以键值对的形式出现。\n",
    "键不可重复，而值可以重复。如果字典中出现了重复的键值，只会记该键对应的最后一个值。\n",
    "字典中的键是不可改变的，为不可变对象，不能进行修改，而值是可以修改的，可以是任何对象。\n",
    "4.集合\n",
    "集合中的每个元素都是无序的，不重复的任何对象。可以通过集合去判断数据的从属关系，也可以通过集合把数据结构中的重复的元素去掉。集合可做集合运算，可添加和删除元素。"
   ]
  },
  {
   "cell_type": "raw",
   "metadata": {},
   "source": [
    "七.字符串与元组，列表等的不同"
   ]
  },
  {
   "cell_type": "raw",
   "metadata": {},
   "source": [
    "在python3 中所有字符串都是unicode字符串。\n",
    "字符串和元组都是有序的，不可修改的序列。\n",
    "元组的元素可以是任何类型，字符串的元素只能是字符。\n",
    "元组的元素长度可以是任意，字符串的元素长度只能为一。\n",
    "字符串和列表可以相互转换。\n",
    "字符串是不可变对象，即其中的字符不能单独被更改，列表可变，其中元素可以改变"
   ]
  },
  {
   "cell_type": "raw",
   "metadata": {},
   "source": [
    "八.排序方法的实现"
   ]
  },
  {
   "cell_type": "raw",
   "metadata": {},
   "source": [
    "1.冒泡排序"
   ]
  },
  {
   "cell_type": "code",
   "execution_count": 1,
   "metadata": {},
   "outputs": [],
   "source": [
    "import random\n",
    "def bubble_sort(data):\n",
    "    for i in range(len(data)-1):\n",
    "        indicator=False\n",
    "        for j in range(len(data)-1-i):\n",
    "            if data[j]>data[j+1]:\n",
    "                data[j],data[j+1]=data[j+1],data[j]\n",
    "                indicator=True\n",
    "                if not indicator:\n",
    "                    break\n",
    "                    data=list(range(10))\n",
    "                    random.shuffle(data)\n",
    "                    print(data)\n",
    "                    bubble_sort(data)\n",
    "                    print(data)\n",
    "                \n",
    "    "
   ]
  },
  {
   "cell_type": "raw",
   "metadata": {},
   "source": [
    "2.选择排序"
   ]
  },
  {
   "cell_type": "code",
   "execution_count": 2,
   "metadata": {},
   "outputs": [],
   "source": [
    "def getmin(arr):\n",
    "    min=arr[0];\n",
    "    min_index=0;\n",
    "    for i in range(0,len(arr)):\n",
    "        if arr[i]<min:\n",
    "            min=arr[i]\n",
    "            min_index=i\n",
    "            return min_index\n",
    "        \n",
    "        \n",
    "        def selectSort(arr):\n",
    "            newArr=[];\n",
    "            for i in range(0,len(arr)):\n",
    "                min=getmin(arr);\n",
    "                newArr.append(arr.pop(min))\n",
    "                return newArr;\n",
    "            \n",
    "            a=[4,6,9,1,3,87,41,5]\n",
    "            print(selectsort(a))"
   ]
  },
  {
   "cell_type": "raw",
   "metadata": {},
   "source": [
    "3.插入排序"
   ]
  },
  {
   "cell_type": "code",
   "execution_count": 3,
   "metadata": {},
   "outputs": [],
   "source": [
    "def InsertSort(myList):\n",
    "    length=len(myList)\n",
    "    for i in range(1,length):\n",
    "        j=i-1\n",
    "        if(myList[i]<myList[j]):\n",
    "            temp=myList[i]\n",
    "            myList[i]=myLIst[j]\n",
    "            j=j-1\n",
    "            while j>=0 and myList[j]>temp:\n",
    "                myList[j+1]=myList[j]\n",
    "                j=j-1\n",
    "                myList[j+1]=temp\n",
    "                myList=[2,3,45,67,84,23,69]\n",
    "                InsertSort(myList)\n",
    "                print(myList)"
   ]
  },
  {
   "cell_type": "raw",
   "metadata": {},
   "source": [
    "4.快速排序"
   ]
  },
  {
   "cell_type": "code",
   "execution_count": 6,
   "metadata": {},
   "outputs": [],
   "source": [
    "def sub_sort(array,low,high):\n",
    "    key=array[low]\n",
    "    while low<high:\n",
    "        while low<high and array[high]>=key:\n",
    "            high-=1\n",
    "            while low <high and array[high]<key:\n",
    "                array[low]=array[high]\n",
    "                low+=1\n",
    "                array [high]=array[low]\n",
    "                array[low]=key\n",
    "                return low\n",
    "            def quick_sort(array,low,high):\n",
    "                if low<high:\n",
    "                    key_index=sub_sort(array,low,high)\n",
    "                    quick_sort(array,low,key_index)\n",
    "                    quick_sort(array,key_index+1,high)\n",
    "                    if __name__=='__main__':\n",
    "                        array=[8,2,30,48,58,93,20,34,54]\n",
    "                        print (array)\n",
    "                        quick_sort(array,0,len(array)-1)\n",
    "                        print (array)"
   ]
  },
  {
   "cell_type": "raw",
   "metadata": {},
   "source": [
    "5.希尔排序"
   ]
  },
  {
   "cell_type": "code",
   "execution_count": 14,
   "metadata": {},
   "outputs": [],
   "source": [
    "def shell_sort(ary):\n",
    "    n = len(ary)\n",
    "    gap = round(n/2)       \n",
    "    while gap > 0 :\n",
    "        for i in range(gap,n):        \n",
    "            temp = ary[i]\n",
    "            j = i\n",
    "            while ( j >= gap and ary[j-gap] > temp ):    \n",
    "                ary[j] = ary[j-gap]\n",
    "                j = j - gap\n",
    "            ary[j] = temp\n",
    "        gap = round(gap/2)                     \n",
    "    return ary"
   ]
  },
  {
   "cell_type": "code",
   "execution_count": null,
   "metadata": {},
   "outputs": [],
   "source": []
  }
 ],
 "metadata": {
  "kernelspec": {
   "display_name": "Python 3",
   "language": "python",
   "name": "python3"
  },
  "language_info": {
   "codemirror_mode": {
    "name": "ipython",
    "version": 3
   },
   "file_extension": ".py",
   "mimetype": "text/x-python",
   "name": "python",
   "nbconvert_exporter": "python",
   "pygments_lexer": "ipython3",
   "version": "3.6.5"
  }
 },
 "nbformat": 4,
 "nbformat_minor": 2
}
